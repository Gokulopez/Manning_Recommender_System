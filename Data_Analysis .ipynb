{
 "cells": [
  {
   "cell_type": "markdown",
   "metadata": {},
   "source": [
    "# Data_Analysis on MovieTweetings"
   ]
  },
  {
   "cell_type": "markdown",
   "metadata": {},
   "source": [
    "This is the first part of my recommender system.\n",
    "I will answer the following questions.\n",
    "\n",
    "a. How many users and movies are mentioned in the dataset? \n",
    "\n",
    "b. How old are the data points (number of data points per year) \n",
    "\n",
    "c. How popular are popular movies? Looking at the data, when will you say a movie is popular? \n",
    "\n",
    "d. How many long-tail movies are there? \n",
    "\n",
    "e. How many movies has each user rated? \n",
    "\n",
    "f. If you had a recommender system that only recommends the most popular movies, how good would it be?\n",
    "## Input data to Data Frame"
   ]
  },
  {
   "cell_type": "code",
   "execution_count": 1,
   "metadata": {},
   "outputs": [],
   "source": [
    "import numpy as np\n",
    "import pandas as pd\n"
   ]
  },
  {
   "cell_type": "code",
   "execution_count": 2,
   "metadata": {},
   "outputs": [
    {
     "name": "stderr",
     "output_type": "stream",
     "text": [
      "/Users/martinlopez/anaconda3/envs/AIND-NLP/lib/python3.8/site-packages/pandas/io/parsers.py:765: ParserWarning: Falling back to the 'python' engine because the 'c' engine does not support regex separators (separators > 1 char and different from '\\s+' are interpreted as regex); you can avoid this warning by specifying engine='python'.\n",
      "  return read_csv(**locals())\n"
     ]
    }
   ],
   "source": [
    "df = pd.read_table(\"ratings.dat\", \n",
    "                   sep=\"::\", \n",
    "                   names=['user_id', 'movie_id','rating','rating_timestamp'])\n"
   ]
  },
  {
   "cell_type": "code",
   "execution_count": 3,
   "metadata": {},
   "outputs": [
    {
     "name": "stdout",
     "output_type": "stream",
     "text": [
      "   user_id  movie_id  rating  rating_timestamp\n",
      "0        1    114508       8        1381006850\n",
      "1        2     75314       1        1595468524\n",
      "2        2    102926       9        1590148016\n",
      "3        2    114369      10        1597555347\n",
      "4        2    118715       8        1596006798\n"
     ]
    }
   ],
   "source": [
    "print(df.head())"
   ]
  },
  {
   "cell_type": "markdown",
   "metadata": {},
   "source": [
    "## Check min and max rating values"
   ]
  },
  {
   "cell_type": "code",
   "execution_count": 4,
   "metadata": {},
   "outputs": [
    {
     "name": "stdout",
     "output_type": "stream",
     "text": [
      "Min: 0\n",
      "Max: 10\n"
     ]
    }
   ],
   "source": [
    "min_ = df['rating'].min()\n",
    "max_ = df['rating'].max()\n",
    "\n",
    "print(f'Min: {min_}')\n",
    "print(f'Max: {max_}')"
   ]
  },
  {
   "cell_type": "markdown",
   "metadata": {},
   "source": [
    "## Get unique user and movie ID's \n",
    "\n",
    "# 1. How many users and movies are mentioned in the dataset?"
   ]
  },
  {
   "cell_type": "code",
   "execution_count": 5,
   "metadata": {},
   "outputs": [
    {
     "name": "stdout",
     "output_type": "stream",
     "text": [
      "Unique user IDs: 69324\n",
      "Unique movie IDs: 36380\n"
     ]
    }
   ],
   "source": [
    "user_ids = np.array(df['user_id'])\n",
    "unique_user_ids = np.unique(user_ids)\n",
    "\n",
    "movie_ids = np.array(df['movie_id'])\n",
    "unique_movie_ids = np.unique(movie_ids)\n",
    "\n",
    "print(f'Unique user IDs: {unique_user_ids.size}')\n",
    "print(f'Unique movie IDs: {unique_movie_ids.size}')"
   ]
  },
  {
   "cell_type": "markdown",
   "metadata": {},
   "source": [
    "## Convert Timestamp to datetime\n"
   ]
  },
  {
   "cell_type": "code",
   "execution_count": 6,
   "metadata": {},
   "outputs": [
    {
     "name": "stdout",
     "output_type": "stream",
     "text": [
      "24 days, 3:40:23\n"
     ]
    }
   ],
   "source": [
    "from datetime import datetime\n",
    "\n",
    "dates = []\n",
    "for date in df['rating_timestamp']:\n",
    "    dates.append(datetime.fromtimestamp(date))\n",
    "print(dates[3] - dates[1])"
   ]
  },
  {
   "cell_type": "code",
   "execution_count": 8,
   "metadata": {},
   "outputs": [],
   "source": [
    "def find_min_and_max_date(data):\n",
    "\n",
    "    earliest = data[0]\n",
    "    latest = data[0]\n",
    "\n",
    "    num =0\n",
    "    for date in data:\n",
    "        if date < earliest:\n",
    "            earliest = date\n",
    "        if date > latest:\n",
    "                latest = date\n",
    "    result = latest - earliest\n",
    "    print(f'Eariest review: {earliest}')\n",
    "    print(f'Latest review: {latest}')   \n",
    "    print(f'Latest - Earliest: {result}')"
   ]
  },
  {
   "cell_type": "code",
   "execution_count": 9,
   "metadata": {},
   "outputs": [
    {
     "name": "stdout",
     "output_type": "stream",
     "text": [
      "Eariest review: 2013-02-28 06:38:27\n",
      "Latest review: 2020-09-23 18:23:51\n",
      "Latest - Earliest: 2764 days, 11:45:24\n"
     ]
    }
   ],
   "source": [
    "find_min_and_max_date(dates)"
   ]
  },
  {
   "cell_type": "markdown",
   "metadata": {},
   "source": [
    "## Counter"
   ]
  },
  {
   "cell_type": "code",
   "execution_count": 10,
   "metadata": {},
   "outputs": [],
   "source": [
    "from collections import Counter"
   ]
  },
  {
   "cell_type": "code",
   "execution_count": 11,
   "metadata": {},
   "outputs": [],
   "source": [
    "years = []\n",
    "for day in dates:\n",
    "    years.append(day.year)"
   ]
  },
  {
   "cell_type": "markdown",
   "metadata": {},
   "source": [
    "# 2. How old are the data points (number of datapoints per year)"
   ]
  },
  {
   "cell_type": "code",
   "execution_count": 12,
   "metadata": {},
   "outputs": [
    {
     "name": "stdout",
     "output_type": "stream",
     "text": [
      "Counter({2013: 170916, 2014: 156346, 2015: 123668, 2016: 112398, 2017: 105968, 2018: 81905, 2019: 74156, 2020: 63095})\n"
     ]
    }
   ],
   "source": [
    "year_count = Counter(years)\n",
    "print(year_count)"
   ]
  },
  {
   "cell_type": "markdown",
   "metadata": {},
   "source": [
    "## Create dictionaries with the data. \n",
    "    "
   ]
  },
  {
   "cell_type": "code",
   "execution_count": 13,
   "metadata": {},
   "outputs": [],
   "source": [
    "df_dict = {'user_id': [], 'movie_id': [], 'rating': [], 'rating_timestamp': []}\n",
    "\n",
    "for col_name, data, in df.items():\n",
    "    df_dict[str(col_name)].append(data)\n"
   ]
  },
  {
   "cell_type": "code",
   "execution_count": 15,
   "metadata": {},
   "outputs": [
    {
     "name": "stdout",
     "output_type": "stream",
     "text": [
      "<class 'list'>\n"
     ]
    }
   ],
   "source": [
    "users = []\n",
    "\n",
    "for user in df_dict['user_id']:\n",
    "    for ids in user:\n",
    "        users.append(ids)"
   ]
  },
  {
   "cell_type": "code",
   "execution_count": 79,
   "metadata": {},
   "outputs": [
    {
     "name": "stdout",
     "output_type": "stream",
     "text": [
      "<class 'list'>\n"
     ]
    }
   ],
   "source": [
    "df_dict['rating']\n",
    "ratings = []\n",
    "count =0\n",
    "for value in df_dict['rating']:\n",
    "    for rate in value:\n",
    "        ratings.append(rate)"
   ]
  },
  {
   "cell_type": "code",
   "execution_count": null,
   "metadata": {},
   "outputs": [],
   "source": [
    "movie_ids = []\n",
    "\n",
    "for movie in df_dict['movie_id']:\n",
    "    for ids in movie:\n",
    "        movie_ids.append(ids)"
   ]
  },
  {
   "cell_type": "code",
   "execution_count": null,
   "metadata": {},
   "outputs": [],
   "source": [
    "\n"
   ]
  },
  {
   "cell_type": "code",
   "execution_count": 24,
   "metadata": {},
   "outputs": [],
   "source": [
    "movie_review_count = Counter(movie_ids)"
   ]
  },
  {
   "cell_type": "code",
   "execution_count": 17,
   "metadata": {},
   "outputs": [],
   "source": [
    "user_review_count = Counter(users)\n"
   ]
  },
  {
   "cell_type": "code",
   "execution_count": null,
   "metadata": {},
   "outputs": [],
   "source": []
  },
  {
   "cell_type": "code",
   "execution_count": 55,
   "metadata": {},
   "outputs": [
    {
     "name": "stdout",
     "output_type": "stream",
     "text": [
      "<class 'collections.Counter'>\n",
      "<class 'collections.Counter'>\n"
     ]
    }
   ],
   "source": [
    "print(type(user_review_count))\n",
    "print(type(movie_review_count))"
   ]
  },
  {
   "cell_type": "code",
   "execution_count": 18,
   "metadata": {},
   "outputs": [],
   "source": [
    "import matplotlib.pyplot as plt"
   ]
  },
  {
   "cell_type": "markdown",
   "metadata": {},
   "source": [
    "## Some user ids seem to have way more reviews than others"
   ]
  },
  {
   "cell_type": "code",
   "execution_count": 33,
   "metadata": {},
   "outputs": [
    {
     "data": {
      "text/plain": [
       "[<matplotlib.lines.Line2D at 0x122858ac0>]"
      ]
     },
     "execution_count": 33,
     "metadata": {},
     "output_type": "execute_result"
    },
    {
     "data": {
      "image/png": "[encoded data removed]",
      "text/plain": [
       "<Figure size 432x288 with 1 Axes>"
      ]
     },
     "metadata": {
      "needs_background": "light"
     },
     "output_type": "display_data"
    }
   ],
   "source": [
    "plt.plot(user_review_count.keys(), user_review_count.values())"
   ]
  },
  {
   "cell_type": "code",
   "execution_count": null,
   "metadata": {},
   "outputs": [],
   "source": []
  },
  {
   "cell_type": "code",
   "execution_count": null,
   "metadata": {},
   "outputs": [],
   "source": []
  },
  {
   "cell_type": "code",
   "execution_count": 71,
   "metadata": {},
   "outputs": [
    {
     "name": "stdout",
     "output_type": "stream",
     "text": [
      "[0         1381006850\n",
      "1         1595468524\n",
      "2         1590148016\n",
      "3         1597555347\n",
      "4         1596006798\n",
      "             ...    \n",
      "888447    1595810413\n",
      "888448    1585958452\n",
      "888449    1587107015\n",
      "888450    1587107852\n",
      "888451    1362832655\n",
      "Name: rating_timestamp, Length: 888452, dtype: int64]\n"
     ]
    }
   ],
   "source": []
  },
  {
   "cell_type": "markdown",
   "metadata": {},
   "source": [
    "## Seaborn"
   ]
  },
  {
   "cell_type": "code",
   "execution_count": 44,
   "metadata": {},
   "outputs": [],
   "source": [
    "import seaborn as sns\n"
   ]
  },
  {
   "cell_type": "code",
   "execution_count": null,
   "metadata": {},
   "outputs": [],
   "source": [
    "\n"
   ]
  },
  {
   "cell_type": "code",
   "execution_count": 15,
   "metadata": {},
   "outputs": [
    {
     "data": {
      "text/plain": [
       "<AxesSubplot:ylabel='Density'>"
      ]
     },
     "execution_count": 15,
     "metadata": {},
     "output_type": "execute_result"
    },
    {
     "data": {
      "image/png": "[encoded data removed]",
      "text/plain": [
       "<Figure size 432x288 with 1 Axes>"
      ]
     },
     "metadata": {
      "needs_background": "light"
     },
     "output_type": "display_data"
    }
   ],
   "source": [
    "# sns.distplot(df['rating'])\n",
    "df_ = df['rating']\n",
    "df_.plot(kind='density', linewidth=2)\n",
    "plt.show()"
   ]
  },
  {
   "cell_type": "markdown",
   "metadata": {},
   "source": [
    "# How popular are popular movies? Looking at the data, when will you say a movie is popular?\n",
    "\n",
    "Most of the movies seem to be 6 star rating or higher. The movies seem popular. I would sa movies are popular depending when they have an average 6 star review. "
   ]
  },
  {
   "cell_type": "code",
   "execution_count": 102,
   "metadata": {},
   "outputs": [
    {
     "name": "stderr",
     "output_type": "stream",
     "text": [
      "/Users/martinlopez/anaconda3/envs/AIND-NLP/lib/python3.8/site-packages/seaborn/distributions.py:2551: FutureWarning: `distplot` is a deprecated function and will be removed in a future version. Please adapt your code to use either `displot` (a figure-level function with similar flexibility) or `histplot` (an axes-level function for histograms).\n",
      "  warnings.warn(msg, FutureWarning)\n"
     ]
    },
    {
     "data": {
      "text/plain": [
       "<AxesSubplot:xlabel='rating', ylabel='Density'>"
      ]
     },
     "execution_count": 102,
     "metadata": {},
     "output_type": "execute_result"
    },
    {
     "data": {
      "image/png": "[encoded data removed]",
      "text/plain": [
       "<Figure size 432x288 with 1 Axes>"
      ]
     },
     "metadata": {
      "needs_background": "light"
     },
     "output_type": "display_data"
    }
   ],
   "source": [
    "sns.distplot(df[\"rating\"])"
   ]
  },
  {
   "cell_type": "markdown",
   "metadata": {},
   "source": [
    "## How many long-tail movies are there? \n",
    "244331 "
   ]
  },
  {
   "cell_type": "code",
   "execution_count": 90,
   "metadata": {},
   "outputs": [],
   "source": [
    "long_tains = 0\n",
    "\n",
    "for num in ratings:\n",
    "    if (num <7):\n",
    "        long_tains +=1"
   ]
  },
  {
   "cell_type": "code",
   "execution_count": 86,
   "metadata": {},
   "outputs": [],
   "source": [
    "popular = 0\n",
    "\n",
    "for num in ratings:\n",
    "    if (num >=7):\n",
    "        popular +=1"
   ]
  },
  {
   "cell_type": "code",
   "execution_count": 91,
   "metadata": {},
   "outputs": [
    {
     "name": "stdout",
     "output_type": "stream",
     "text": [
      "244331\n",
      "644121\n"
     ]
    }
   ],
   "source": [
    "print(long_tains)\n",
    "print(popular)"
   ]
  },
  {
   "cell_type": "markdown",
   "metadata": {},
   "source": [
    "## If you had a recommender system that only recommends the most popular movies, how good would it be?\n",
    "\n",
    "It will be as good as I train it."
   ]
  },
  {
   "cell_type": "code",
   "execution_count": null,
   "metadata": {},
   "outputs": [],
   "source": []
  },
  {
   "cell_type": "code",
   "execution_count": 29,
   "metadata": {},
   "outputs": [],
   "source": []
  },
  {
   "cell_type": "code",
   "execution_count": null,
   "metadata": {},
   "outputs": [],
   "source": []
  },
  {
   "cell_type": "code",
   "execution_count": null,
   "metadata": {},
   "outputs": [],
   "source": []
  },
  {
   "cell_type": "code",
   "execution_count": null,
   "metadata": {},
   "outputs": [],
   "source": []
  },
  {
   "cell_type": "code",
   "execution_count": null,
   "metadata": {},
   "outputs": [],
   "source": []
  },
  {
   "cell_type": "code",
   "execution_count": null,
   "metadata": {},
   "outputs": [],
   "source": []
  },
  {
   "cell_type": "code",
   "execution_count": null,
   "metadata": {},
   "outputs": [],
   "source": []
  }
 ],
 "metadata": {
  "kernelspec": {
   "display_name": "AIND-NLP",
   "language": "python",
   "name": "aind-nlp"
  },
  "language_info": {
   "codemirror_mode": {
    "name": "ipython",
    "version": 3
   },
   "file_extension": ".py",
   "mimetype": "text/x-python",
   "name": "python",
   "nbconvert_exporter": "python",
   "pygments_lexer": "ipython3",
   "version": "3.8.5"
  }
 },
 "nbformat": 4,
 "nbformat_minor": 4
}
